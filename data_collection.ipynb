{
 "cells": [
  {
   "cell_type": "markdown",
   "id": "bbaf5e22",
   "metadata": {},
   "source": [
    "# Data Collection for Aboveground Biomass "
   ]
  },
  {
   "cell_type": "markdown",
   "id": "dca040da",
   "metadata": {},
   "source": [
    "The analysis is split between 3 notebooks.:\n",
    "1) data_collection.ipynb (this notebook): which downloads data from Google Earth Engine (can be slow)\n",
    "2) data_processing.ipynb: which merges the data into dataframe that is ready to use for regression\n",
    "3) regression.ipynb: which performs the regression and prediction of the Aboveground Biomass and calculates the carbon stored"
   ]
  },
  {
   "cell_type": "markdown",
   "id": "dcdf512f",
   "metadata": {},
   "source": [
    "In this notebook, we:\n",
    "* define our *area of interest* (AOI) and the *time* of interest\n",
    "* connect to Google Earth Engine to download data \n",
    "* access sentinel-2 data (optical), sentinel-1 data (SAR), elevation and land cover data\n",
    "* resample all data to common grid\n",
    "* download data"
   ]
  },
  {
   "cell_type": "markdown",
   "id": "0f60b643",
   "metadata": {},
   "source": [
    "## Import Libraries"
   ]
  },
  {
   "cell_type": "markdown",
   "id": "a09e425c",
   "metadata": {},
   "source": [
    "All libraries should be easily installed via: \n",
    "\n",
    "`!pip install [module]`"
   ]
  },
  {
   "cell_type": "code",
   "execution_count": 62,
   "id": "de380aee",
   "metadata": {},
   "outputs": [
    {
     "data": {
      "text/html": [
       "\n",
       "            <style>\n",
       "                .geemap-dark {\n",
       "                    --jp-widgets-color: white;\n",
       "                    --jp-widgets-label-color: white;\n",
       "                    --jp-ui-font-color1: white;\n",
       "                    --jp-layout-color2: #454545;\n",
       "                    background-color: #383838;\n",
       "                }\n",
       "\n",
       "                .geemap-dark .jupyter-button {\n",
       "                    --jp-layout-color3: #383838;\n",
       "                }\n",
       "\n",
       "                .geemap-colab {\n",
       "                    background-color: var(--colab-primary-surface-color, white);\n",
       "                }\n",
       "\n",
       "                .geemap-colab .jupyter-button {\n",
       "                    --jp-layout-color3: var(--colab-primary-surface-color, white);\n",
       "                }\n",
       "            </style>\n",
       "            "
      ],
      "text/plain": [
       "<IPython.core.display.HTML object>"
      ]
     },
     "metadata": {},
     "output_type": "display_data"
    }
   ],
   "source": [
    "import numpy as np\n",
    "import os\n",
    "\n",
    "import ee\n",
    "import geemap\n",
    "import datetime\n",
    "\n",
    "# Initialize Earth Engine\n",
    "ee.Authenticate()\n",
    "ee.Initialize()\n"
   ]
  },
  {
   "cell_type": "markdown",
   "id": "1edb5e27",
   "metadata": {},
   "source": [
    "## Input"
   ]
  },
  {
   "cell_type": "code",
   "execution_count": 63,
   "id": "0bd87ef1",
   "metadata": {},
   "outputs": [
    {
     "data": {
      "text/html": [
       "\n",
       "            <style>\n",
       "                .geemap-dark {\n",
       "                    --jp-widgets-color: white;\n",
       "                    --jp-widgets-label-color: white;\n",
       "                    --jp-ui-font-color1: white;\n",
       "                    --jp-layout-color2: #454545;\n",
       "                    background-color: #383838;\n",
       "                }\n",
       "\n",
       "                .geemap-dark .jupyter-button {\n",
       "                    --jp-layout-color3: #383838;\n",
       "                }\n",
       "\n",
       "                .geemap-colab {\n",
       "                    background-color: var(--colab-primary-surface-color, white);\n",
       "                }\n",
       "\n",
       "                .geemap-colab .jupyter-button {\n",
       "                    --jp-layout-color3: var(--colab-primary-surface-color, white);\n",
       "                }\n",
       "            </style>\n",
       "            "
      ],
      "text/plain": [
       "<IPython.core.display.HTML object>"
      ]
     },
     "metadata": {},
     "output_type": "display_data"
    }
   ],
   "source": [
    "#Set the date from which you want the collect data \n",
    "date_input = '2022-01-01'\n",
    "\n",
    "# Choose a good projection for your area of interest (Google whats the best option)\n",
    "projection_at_aoi = 'EPSG:3857' # This works well for Germany"
   ]
  },
  {
   "cell_type": "markdown",
   "id": "e9fa8357",
   "metadata": {},
   "source": [
    "Set the area of interest.\n",
    "\n",
    "This can be set at [https://geojson.io/](https://geojson.io/)"
   ]
  },
  {
   "cell_type": "code",
   "execution_count": 64,
   "id": "cff6ff8b",
   "metadata": {},
   "outputs": [
    {
     "data": {
      "text/html": [
       "\n",
       "            <style>\n",
       "                .geemap-dark {\n",
       "                    --jp-widgets-color: white;\n",
       "                    --jp-widgets-label-color: white;\n",
       "                    --jp-ui-font-color1: white;\n",
       "                    --jp-layout-color2: #454545;\n",
       "                    background-color: #383838;\n",
       "                }\n",
       "\n",
       "                .geemap-dark .jupyter-button {\n",
       "                    --jp-layout-color3: #383838;\n",
       "                }\n",
       "\n",
       "                .geemap-colab {\n",
       "                    background-color: var(--colab-primary-surface-color, white);\n",
       "                }\n",
       "\n",
       "                .geemap-colab .jupyter-button {\n",
       "                    --jp-layout-color3: var(--colab-primary-surface-color, white);\n",
       "                }\n",
       "            </style>\n",
       "            "
      ],
      "text/plain": [
       "<IPython.core.display.HTML object>"
      ]
     },
     "metadata": {},
     "output_type": "display_data"
    }
   ],
   "source": [
    "# Input a geojson for the area of interest\n",
    "aoi_geojson = {\n",
    "  \"type\": \"FeatureCollection\",\n",
    "  \"features\": [\n",
    "    {\n",
    "      \"type\": \"Feature\",\n",
    "      \"properties\": {},\n",
    "      \"geometry\": {\n",
    "        \"coordinates\": [\n",
    "          [\n",
    "            [\n",
    "              10.327876967233976,\n",
    "              51.190950056438965\n",
    "            ],\n",
    "            [\n",
    "              10.327876967233976,\n",
    "              51.02766008862861\n",
    "            ],\n",
    "            [\n",
    "              10.544399323239077,\n",
    "              51.02766008862861\n",
    "            ],\n",
    "            [\n",
    "              10.544399323239077,\n",
    "              51.190950056438965\n",
    "            ],\n",
    "            [\n",
    "              10.327876967233976,\n",
    "              51.190950056438965\n",
    "            ]\n",
    "          ]\n",
    "        ],\n",
    "        \"type\": \"Polygon\"\n",
    "      }\n",
    "    }\n",
    "  ]\n",
    "}"
   ]
  },
  {
   "cell_type": "code",
   "execution_count": 65,
   "id": "161f6926",
   "metadata": {},
   "outputs": [
    {
     "data": {
      "text/html": [
       "\n",
       "            <style>\n",
       "                .geemap-dark {\n",
       "                    --jp-widgets-color: white;\n",
       "                    --jp-widgets-label-color: white;\n",
       "                    --jp-ui-font-color1: white;\n",
       "                    --jp-layout-color2: #454545;\n",
       "                    background-color: #383838;\n",
       "                }\n",
       "\n",
       "                .geemap-dark .jupyter-button {\n",
       "                    --jp-layout-color3: #383838;\n",
       "                }\n",
       "\n",
       "                .geemap-colab {\n",
       "                    background-color: var(--colab-primary-surface-color, white);\n",
       "                }\n",
       "\n",
       "                .geemap-colab .jupyter-button {\n",
       "                    --jp-layout-color3: var(--colab-primary-surface-color, white);\n",
       "                }\n",
       "            </style>\n",
       "            "
      ],
      "text/plain": [
       "<IPython.core.display.HTML object>"
      ]
     },
     "metadata": {},
     "output_type": "display_data"
    }
   ],
   "source": [
    "# Preparing the aoi for different use cases\n",
    "aoi_input = aoi_geojson['features'][0]['geometry']['coordinates'][0]\n",
    "center_aoi = (np.array(aoi_input[0]) + np.array(aoi_input[2]))/2\n",
    "aoi = ee.Geometry.Polygon(aoi_input) \n",
    "geometry = ee.Geometry.Polygon(aoi_input,None, False)"
   ]
  },
  {
   "cell_type": "markdown",
   "id": "53dc660e",
   "metadata": {},
   "source": [
    "## Data Download"
   ]
  },
  {
   "cell_type": "markdown",
   "id": "50a93c79",
   "metadata": {},
   "source": [
    "In this section, the data from different sources is downloaded"
   ]
  },
  {
   "cell_type": "markdown",
   "id": "263e0d91",
   "metadata": {},
   "source": [
    "### Sentinel 2 Data Download"
   ]
  },
  {
   "cell_type": "markdown",
   "id": "47bce6c6",
   "metadata": {},
   "source": [
    "For Sentinel-2 Data, we need to make sure to create a cloud free image. We use the recommend approach from Google Earth Engine"
   ]
  },
  {
   "cell_type": "code",
   "execution_count": 66,
   "id": "89d87e56",
   "metadata": {},
   "outputs": [
    {
     "data": {
      "text/html": [
       "\n",
       "            <style>\n",
       "                .geemap-dark {\n",
       "                    --jp-widgets-color: white;\n",
       "                    --jp-widgets-label-color: white;\n",
       "                    --jp-ui-font-color1: white;\n",
       "                    --jp-layout-color2: #454545;\n",
       "                    background-color: #383838;\n",
       "                }\n",
       "\n",
       "                .geemap-dark .jupyter-button {\n",
       "                    --jp-layout-color3: #383838;\n",
       "                }\n",
       "\n",
       "                .geemap-colab {\n",
       "                    background-color: var(--colab-primary-surface-color, white);\n",
       "                }\n",
       "\n",
       "                .geemap-colab .jupyter-button {\n",
       "                    --jp-layout-color3: var(--colab-primary-surface-color, white);\n",
       "                }\n",
       "            </style>\n",
       "            "
      ],
      "text/plain": [
       "<IPython.core.display.HTML object>"
      ]
     },
     "metadata": {},
     "output_type": "display_data"
    }
   ],
   "source": [
    "def get_s2_sr_cld_col(aoi, start_date, end_date):\n",
    "    # Import and filter S2 SR.\n",
    "    s2_sr_col = (ee.ImageCollection('COPERNICUS/S2_SR_HARMONIZED')\n",
    "        .filterBounds(aoi)\n",
    "        .filterDate(start_date, end_date)\n",
    "        .filter(ee.Filter.lte('CLOUDY_PIXEL_PERCENTAGE', CLOUD_FILTER)))\n",
    "\n",
    "    # Import and filter s2cloudless.\n",
    "    s2_cloudless_col = (ee.ImageCollection('COPERNICUS/S2_CLOUD_PROBABILITY')\n",
    "        .filterBounds(aoi)\n",
    "        .filterDate(start_date, end_date))\n",
    "\n",
    "    # Join the filtered s2cloudless collection to the SR collection by the 'system:index' property.\n",
    "    return ee.ImageCollection(ee.Join.saveFirst('s2cloudless').apply(**{\n",
    "        'primary': s2_sr_col,\n",
    "        'secondary': s2_cloudless_col,\n",
    "        'condition': ee.Filter.equals(**{\n",
    "            'leftField': 'system:index',\n",
    "            'rightField': 'system:index'\n",
    "        })\n",
    "    }))\n",
    "\n",
    "def add_cloud_bands(img):\n",
    "    # Get s2cloudless image, subset the probability band.\n",
    "    cld_prb = ee.Image(img.get('s2cloudless')).select('probability')\n",
    "\n",
    "    # Condition s2cloudless by the probability threshold value.\n",
    "    is_cloud = cld_prb.gt(CLD_PRB_THRESH).rename('clouds')\n",
    "\n",
    "    # Add the cloud probability layer and cloud mask as image bands.\n",
    "    return img.addBands(ee.Image([cld_prb, is_cloud]))\n",
    "\n",
    "def add_shadow_bands(img):\n",
    "    # Identify water pixels from the SCL band.\n",
    "    not_water = img.select('SCL').neq(6)\n",
    "\n",
    "    # Identify dark NIR pixels that are not water (potential cloud shadow pixels).\n",
    "    SR_BAND_SCALE = 1e4\n",
    "    dark_pixels = img.select('B8').lt(NIR_DRK_THRESH*SR_BAND_SCALE).multiply(not_water).rename('dark_pixels')\n",
    "\n",
    "    # Determine the direction to project cloud shadow from clouds (assumes UTM projection).\n",
    "    shadow_azimuth = ee.Number(90).subtract(ee.Number(img.get('MEAN_SOLAR_AZIMUTH_ANGLE')));\n",
    "\n",
    "    # Project shadows from clouds for the distance specified by the CLD_PRJ_DIST input.\n",
    "    cld_proj = (img.select('clouds').directionalDistanceTransform(shadow_azimuth, CLD_PRJ_DIST*10)\n",
    "        .reproject(**{'crs': img.select(0).projection(), 'scale': 100})\n",
    "        .select('distance')\n",
    "        .mask()\n",
    "        .rename('cloud_transform'))\n",
    "\n",
    "    # Identify the intersection of dark pixels with cloud shadow projection.\n",
    "    shadows = cld_proj.multiply(dark_pixels).rename('shadows')\n",
    "\n",
    "    # Add dark pixels, cloud projection, and identified shadows as image bands.\n",
    "    return img.addBands(ee.Image([dark_pixels, cld_proj, shadows]))\n",
    "\n",
    "def add_cld_shdw_mask(img):\n",
    "    # Add cloud component bands.\n",
    "    img_cloud = add_cloud_bands(img)\n",
    "\n",
    "    # Add cloud shadow component bands.\n",
    "    img_cloud_shadow = add_shadow_bands(img_cloud)\n",
    "\n",
    "    # Combine cloud and shadow mask, set cloud and shadow as value 1, else 0.\n",
    "    is_cld_shdw = img_cloud_shadow.select('clouds').add(img_cloud_shadow.select('shadows')).gt(0)\n",
    "\n",
    "    # Remove small cloud-shadow patches and dilate remaining pixels by BUFFER input.\n",
    "    # 20 m scale is for speed, and assumes clouds don't require 10 m precision.\n",
    "    is_cld_shdw = (is_cld_shdw.focalMin(2).focalMax(BUFFER*2/20)\n",
    "        .reproject(**{'crs': img.select([0]).projection(), 'scale': 20})\n",
    "        .rename('cloudmask'))\n",
    "\n",
    "    # Add the final cloud-shadow mask to the image.\n",
    "    return img_cloud_shadow.addBands(is_cld_shdw)\n",
    "\n",
    "def apply_cld_shdw_mask(img):\n",
    "    # Subset the cloudmask band and invert it so clouds/shadow are 0, else 1.\n",
    "    not_cld_shdw = img.select('cloudmask').Not()\n",
    "\n",
    "    # Subset reflectance bands and update their masks, return the result.\n",
    "    return img.select(['B2', 'B3', 'B4','B5', 'B6', 'B7', 'B8', 'B8A', 'B9', 'B11', 'B12','SCL']).updateMask(not_cld_shdw)"
   ]
  },
  {
   "cell_type": "code",
   "execution_count": 67,
   "id": "3227bad2",
   "metadata": {},
   "outputs": [
    {
     "data": {
      "text/html": [
       "\n",
       "            <style>\n",
       "                .geemap-dark {\n",
       "                    --jp-widgets-color: white;\n",
       "                    --jp-widgets-label-color: white;\n",
       "                    --jp-ui-font-color1: white;\n",
       "                    --jp-layout-color2: #454545;\n",
       "                    background-color: #383838;\n",
       "                }\n",
       "\n",
       "                .geemap-dark .jupyter-button {\n",
       "                    --jp-layout-color3: #383838;\n",
       "                }\n",
       "\n",
       "                .geemap-colab {\n",
       "                    background-color: var(--colab-primary-surface-color, white);\n",
       "                }\n",
       "\n",
       "                .geemap-colab .jupyter-button {\n",
       "                    --jp-layout-color3: var(--colab-primary-surface-color, white);\n",
       "                }\n",
       "            </style>\n",
       "            "
      ],
      "text/plain": [
       "<IPython.core.display.HTML object>"
      ]
     },
     "metadata": {},
     "output_type": "display_data"
    }
   ],
   "source": [
    "# ---- PARAMETERS ----\n",
    "# Define your AOI (a rectangle in this case)\n",
    "\n",
    "# Define date range\n",
    "end_date_str = date_input\n",
    "end_date = datetime.datetime.strptime(end_date_str, '%Y-%m-%d')\n",
    "\n",
    "# Range of data collection\n",
    "n_days = 365\n",
    "start_date = end_date - datetime.timedelta(days=n_days)\n",
    "# Convert back to string for GEE\n",
    "start_date_str = start_date.strftime('%Y-%m-%d')\n",
    "\n",
    "# This parameter is used to filter the image collection by cloud cover percentage.\n",
    "# The value is set to 60, meaning that only images with a cloud cover percentage of 60% or less will be included in the collection.\n",
    "CLOUD_FILTER = 60\n",
    "# This parameter is used to set the threshold for cloud probability.\n",
    "# The value is set to 40, meaning that pixels with a cloud probability of 40% or higher will be considered as clouds.\n",
    "CLD_PRB_THRESH = 40\n",
    "# This parameter is used to set the threshold for dark NIR pixels.\n",
    "# The value is set to 0.15, meaning that pixels with a NIR value of 0.15 or lower will be considered as dark pixels.\n",
    "NIR_DRK_THRESH = 0.15\n",
    "# This parameter is used to set the distance for cloud projection.\n",
    "# The value is set to 2, meaning that the cloud projection will be 2 pixels away from the cloud.\n",
    "CLD_PRJ_DIST = 2\n",
    "# This parameter is used to set the buffer size for dilating the cloud-shadow mask.\n",
    "# The value is set to 100, meaning that the cloud-shadow mask will be dilated by 100 pixels.\n",
    "BUFFER = 100"
   ]
  },
  {
   "cell_type": "code",
   "execution_count": 68,
   "id": "ef8cd9cb",
   "metadata": {},
   "outputs": [
    {
     "data": {
      "text/html": [
       "\n",
       "            <style>\n",
       "                .geemap-dark {\n",
       "                    --jp-widgets-color: white;\n",
       "                    --jp-widgets-label-color: white;\n",
       "                    --jp-ui-font-color1: white;\n",
       "                    --jp-layout-color2: #454545;\n",
       "                    background-color: #383838;\n",
       "                }\n",
       "\n",
       "                .geemap-dark .jupyter-button {\n",
       "                    --jp-layout-color3: #383838;\n",
       "                }\n",
       "\n",
       "                .geemap-colab {\n",
       "                    background-color: var(--colab-primary-surface-color, white);\n",
       "                }\n",
       "\n",
       "                .geemap-colab .jupyter-button {\n",
       "                    --jp-layout-color3: var(--colab-primary-surface-color, white);\n",
       "                }\n",
       "            </style>\n",
       "            "
      ],
      "text/plain": [
       "<IPython.core.display.HTML object>"
      ]
     },
     "metadata": {},
     "output_type": "display_data"
    }
   ],
   "source": [
    "s2_sr_cld_col = get_s2_sr_cld_col(aoi, start_date=start_date_str, end_date=end_date_str) # Get the S2 collection\n",
    "# Apply cloud filters\n",
    "s2_data = (s2_sr_cld_col.map(add_cld_shdw_mask)\n",
    "                             .map(apply_cld_shdw_mask)\n",
    "                             .median())\n",
    "# Clip to area of interest\n",
    "s2_data = s2_data.clip(aoi)\n",
    "# Get the projection\n",
    "s2Projection = ee.Image(s2_data).select('B4').projection()\n",
    "# Make sure that data is in its native projection\n",
    "s2_data = s2_data.setDefaultProjection(s2Projection)\n"
   ]
  },
  {
   "cell_type": "markdown",
   "id": "a621d202",
   "metadata": {},
   "source": [
    "### S1 Download"
   ]
  },
  {
   "cell_type": "markdown",
   "id": "78cd39a5",
   "metadata": {},
   "source": [
    "Same game for Sentinel-1 minus the cloud cover. We are using the VV and VH filters"
   ]
  },
  {
   "cell_type": "code",
   "execution_count": 69,
   "id": "f73422d0",
   "metadata": {},
   "outputs": [
    {
     "data": {
      "text/html": [
       "\n",
       "            <style>\n",
       "                .geemap-dark {\n",
       "                    --jp-widgets-color: white;\n",
       "                    --jp-widgets-label-color: white;\n",
       "                    --jp-ui-font-color1: white;\n",
       "                    --jp-layout-color2: #454545;\n",
       "                    background-color: #383838;\n",
       "                }\n",
       "\n",
       "                .geemap-dark .jupyter-button {\n",
       "                    --jp-layout-color3: #383838;\n",
       "                }\n",
       "\n",
       "                .geemap-colab {\n",
       "                    background-color: var(--colab-primary-surface-color, white);\n",
       "                }\n",
       "\n",
       "                .geemap-colab .jupyter-button {\n",
       "                    --jp-layout-color3: var(--colab-primary-surface-color, white);\n",
       "                }\n",
       "            </style>\n",
       "            "
      ],
      "text/plain": [
       "<IPython.core.display.HTML object>"
      ]
     },
     "metadata": {},
     "output_type": "display_data"
    }
   ],
   "source": [
    "s1 = (ee.ImageCollection('COPERNICUS/S1_GRD')\n",
    "    .filterBounds(aoi)\n",
    "    .filterDate(start_date_str, end_date_str)\n",
    "    .filter(ee.Filter.eq('instrumentMode', 'IW'))\n",
    "    .filter(ee.Filter.listContains('transmitterReceiverPolarisation', 'VV'))\n",
    "    .filter(ee.Filter.listContains('transmitterReceiverPolarisation', 'VH'))\n",
    "    .filter(ee.Filter.eq('orbitProperties_pass', 'DESCENDING'))\n",
    "    .filter(ee.Filter.eq('resolution_meters', 10))\n",
    "    .select(['VV', 'VH']))\n",
    "\n",
    "\n",
    "s1_median = s1.median().clip(aoi)\n",
    "s1_data = s1_median.setDefaultProjection(s2Projection)\n"
   ]
  },
  {
   "cell_type": "markdown",
   "id": "ee716d59",
   "metadata": {},
   "source": [
    "### GEDI"
   ]
  },
  {
   "cell_type": "markdown",
   "id": "8776d0fa",
   "metadata": {},
   "source": [
    "GEDI download requires a bit more work. We apply a filter to remove all low quality measurements. \n",
    "\n",
    "If there are not enough measurements then increase number n_dats"
   ]
  },
  {
   "cell_type": "code",
   "execution_count": 70,
   "id": "6408ce13",
   "metadata": {},
   "outputs": [
    {
     "data": {
      "text/html": [
       "\n",
       "            <style>\n",
       "                .geemap-dark {\n",
       "                    --jp-widgets-color: white;\n",
       "                    --jp-widgets-label-color: white;\n",
       "                    --jp-ui-font-color1: white;\n",
       "                    --jp-layout-color2: #454545;\n",
       "                    background-color: #383838;\n",
       "                }\n",
       "\n",
       "                .geemap-dark .jupyter-button {\n",
       "                    --jp-layout-color3: #383838;\n",
       "                }\n",
       "\n",
       "                .geemap-colab {\n",
       "                    background-color: var(--colab-primary-surface-color, white);\n",
       "                }\n",
       "\n",
       "                .geemap-colab .jupyter-button {\n",
       "                    --jp-layout-color3: var(--colab-primary-surface-color, white);\n",
       "                }\n",
       "            </style>\n",
       "            "
      ],
      "text/plain": [
       "<IPython.core.display.HTML object>"
      ]
     },
     "metadata": {},
     "output_type": "display_data"
    }
   ],
   "source": [
    "# Number of days between input date and start state. GEDI went on a maintenance break in 2024. \n",
    "# So, if your start date is in 2024 or early 2025 and you don't have enough points, you can increase this number\n",
    "n_days = 565\n",
    "\n",
    "\n",
    "# Define date range\n",
    "end_date_str = date_input\n",
    "end_date = datetime.datetime.strptime(end_date_str, '%Y-%m-%d')\n",
    "\n",
    "# Range of data collection\n",
    "start_date = end_date - datetime.timedelta(days=n_days)\n",
    "# Convert back to string for GEE\n",
    "start_date_str = start_date.strftime('%Y-%m-%d')"
   ]
  },
  {
   "cell_type": "code",
   "execution_count": 71,
   "id": "2c5bf2ca",
   "metadata": {},
   "outputs": [
    {
     "data": {
      "text/html": [
       "\n",
       "            <style>\n",
       "                .geemap-dark {\n",
       "                    --jp-widgets-color: white;\n",
       "                    --jp-widgets-label-color: white;\n",
       "                    --jp-ui-font-color1: white;\n",
       "                    --jp-layout-color2: #454545;\n",
       "                    background-color: #383838;\n",
       "                }\n",
       "\n",
       "                .geemap-dark .jupyter-button {\n",
       "                    --jp-layout-color3: #383838;\n",
       "                }\n",
       "\n",
       "                .geemap-colab {\n",
       "                    background-color: var(--colab-primary-surface-color, white);\n",
       "                }\n",
       "\n",
       "                .geemap-colab .jupyter-button {\n",
       "                    --jp-layout-color3: var(--colab-primary-surface-color, white);\n",
       "                }\n",
       "            </style>\n",
       "            "
      ],
      "text/plain": [
       "<IPython.core.display.HTML object>"
      ]
     },
     "metadata": {},
     "output_type": "display_data"
    }
   ],
   "source": [
    "# ---- LOAD GEDI DATASET ----\n",
    "# Define mask that removes low quality points\n",
    "def quality_mask(im):\n",
    "    return (\n",
    "        im.updateMask(im.select('l4_quality_flag').eq(1))\n",
    "          .updateMask(im.select('degrade_flag').eq(0))\n",
    "    )\n",
    "\n",
    "# Access data\n",
    "gedi = ( \n",
    "        ee.ImageCollection(\"LARSE/GEDI/GEDI04_A_002_MONTHLY\")\n",
    "        .filterDate(start_date_str, end_date_str)\n",
    "        .filter(ee.Filter.bounds(geometry)))\n",
    "\n",
    "# Get the projection\n",
    "gedi_proj = ee.Image(gedi.first().select('agbd').projection())\n",
    "\n",
    "# Apply mask, then get the mosaic, only get the required 'agbd' Band (AboveBround Biomass Density)\n",
    "gedi_mosaic = gedi.map(quality_mask).mosaic().select('agbd').setDefaultProjection(gedi_proj)\n",
    "# Set the data to its native projection\n",
    "gedi_mosaic = gedi_mosaic.setDefaultProjection(gedi_proj)"
   ]
  },
  {
   "cell_type": "markdown",
   "id": "a1870130",
   "metadata": {},
   "source": [
    "### World Cover"
   ]
  },
  {
   "cell_type": "markdown",
   "id": "d6fa0d32",
   "metadata": {},
   "source": [
    "World Cover Map is straightforward"
   ]
  },
  {
   "cell_type": "code",
   "execution_count": 72,
   "id": "40113d02",
   "metadata": {},
   "outputs": [
    {
     "data": {
      "text/html": [
       "\n",
       "            <style>\n",
       "                .geemap-dark {\n",
       "                    --jp-widgets-color: white;\n",
       "                    --jp-widgets-label-color: white;\n",
       "                    --jp-ui-font-color1: white;\n",
       "                    --jp-layout-color2: #454545;\n",
       "                    background-color: #383838;\n",
       "                }\n",
       "\n",
       "                .geemap-dark .jupyter-button {\n",
       "                    --jp-layout-color3: #383838;\n",
       "                }\n",
       "\n",
       "                .geemap-colab {\n",
       "                    background-color: var(--colab-primary-surface-color, white);\n",
       "                }\n",
       "\n",
       "                .geemap-colab .jupyter-button {\n",
       "                    --jp-layout-color3: var(--colab-primary-surface-color, white);\n",
       "                }\n",
       "            </style>\n",
       "            "
      ],
      "text/plain": [
       "<IPython.core.display.HTML object>"
      ]
     },
     "metadata": {},
     "output_type": "display_data"
    }
   ],
   "source": [
    "# Load the WorldCover dataset\n",
    "worldcover = ee.ImageCollection(\"ESA/WorldCover/v200\").first()  # clip to 100km radius\n",
    "# Use sentinel 2 projection\n",
    "worldcover= worldcover.clip(aoi).setDefaultProjection(s2Projection)\n"
   ]
  },
  {
   "cell_type": "markdown",
   "id": "5a2e093c",
   "metadata": {},
   "source": [
    "### DEM"
   ]
  },
  {
   "cell_type": "markdown",
   "id": "3e8bdaf3",
   "metadata": {},
   "source": [
    "Digitial Elevation Model (DEM) includes elevation and allows for calculation of the slope"
   ]
  },
  {
   "cell_type": "code",
   "execution_count": 73,
   "id": "1e1174e6",
   "metadata": {},
   "outputs": [
    {
     "data": {
      "text/html": [
       "\n",
       "            <style>\n",
       "                .geemap-dark {\n",
       "                    --jp-widgets-color: white;\n",
       "                    --jp-widgets-label-color: white;\n",
       "                    --jp-ui-font-color1: white;\n",
       "                    --jp-layout-color2: #454545;\n",
       "                    background-color: #383838;\n",
       "                }\n",
       "\n",
       "                .geemap-dark .jupyter-button {\n",
       "                    --jp-layout-color3: #383838;\n",
       "                }\n",
       "\n",
       "                .geemap-colab {\n",
       "                    background-color: var(--colab-primary-surface-color, white);\n",
       "                }\n",
       "\n",
       "                .geemap-colab .jupyter-button {\n",
       "                    --jp-layout-color3: var(--colab-primary-surface-color, white);\n",
       "                }\n",
       "            </style>\n",
       "            "
      ],
      "text/plain": [
       "<IPython.core.display.HTML object>"
      ]
     },
     "metadata": {},
     "output_type": "display_data"
    }
   ],
   "source": [
    "# Access data\n",
    "dem = ee.ImageCollection(\"COPERNICUS/DEM/GLO30\")\n",
    "# Select Elevation band\n",
    "dem = dem.select(['DEM']).mosaic().clip(aoi)\n",
    "# Get Slope\n",
    "slope = ee.Terrain.slope(dem)\n",
    "# Set to sentinel 2 projection\n",
    "dem_bands = dem.addBands(slope).setDefaultProjection(s2Projection)"
   ]
  },
  {
   "cell_type": "markdown",
   "id": "140ac511",
   "metadata": {},
   "source": [
    "# Plot everything together"
   ]
  },
  {
   "cell_type": "markdown",
   "id": "9b682d36",
   "metadata": {},
   "source": [
    "We can have a quick look if the data looks alright and plot it. First we define a visualisation for all the data sources. THen we plot them.\n",
    "\n",
    "You can toggle the layers on and off at the top right. Make sure all layers look correct"
   ]
  },
  {
   "cell_type": "code",
   "execution_count": 74,
   "id": "2d913514",
   "metadata": {},
   "outputs": [
    {
     "data": {
      "text/html": [
       "\n",
       "            <style>\n",
       "                .geemap-dark {\n",
       "                    --jp-widgets-color: white;\n",
       "                    --jp-widgets-label-color: white;\n",
       "                    --jp-ui-font-color1: white;\n",
       "                    --jp-layout-color2: #454545;\n",
       "                    background-color: #383838;\n",
       "                }\n",
       "\n",
       "                .geemap-dark .jupyter-button {\n",
       "                    --jp-layout-color3: #383838;\n",
       "                }\n",
       "\n",
       "                .geemap-colab {\n",
       "                    background-color: var(--colab-primary-surface-color, white);\n",
       "                }\n",
       "\n",
       "                .geemap-colab .jupyter-button {\n",
       "                    --jp-layout-color3: var(--colab-primary-surface-color, white);\n",
       "                }\n",
       "            </style>\n",
       "            "
      ],
      "text/plain": [
       "<IPython.core.display.HTML object>"
      ]
     },
     "metadata": {},
     "output_type": "display_data"
    }
   ],
   "source": [
    "# Define RGB Visualization Parameters\n",
    "rgb_vis = {\n",
    "\"bands\": [\"B4\", \"B3\", \"B2\"],  # True color (Red, Green, Blue)\n",
    "\"min\": 0, \"max\": 3500,  # Normalize RGB range\n",
    "}\n",
    "\n",
    "# Optional: visualize settings for map\n",
    "dem_vis = {\n",
    "    'min': 0,\n",
    "    'max': 300,\n",
    "    'palette': ['blue', 'green', 'yellow', 'orange', 'red']\n",
    "}\n",
    "\n",
    "# Visualization: ESA WorldCover classes\n",
    "worldcover_vis = {\n",
    "    'min': 10,\n",
    "    'max': 100,\n",
    "    'palette': [\n",
    "        '#006400',  # Tree cover\n",
    "        '#ffbb22',  # Shrubland\n",
    "        '#ffff4c',  # Grassland\n",
    "        '#f096ff',  # Cropland\n",
    "        '#fa0000',  # Built-up\n",
    "        '#b4b4b4',  # Bare / sparse vegetation\n",
    "        '#f0f0f0',  # Snow and ice\n",
    "        '#0064c8',  # Permanent water bodies\n",
    "        '#0096a0',  # Herbaceous wetland\n",
    "        '#00cf75',  # Mangroves\n",
    "        '#fae6a0',  # Moss and lichen\n",
    "    ]\n",
    "}\n",
    "\n",
    "s1_vis = {'bands': ['VV'], 'min': -20, 'max': 0}\n",
    "\n",
    "\n",
    "gedi_vis = {\n",
    "  'min': 0,\n",
    "  'max': 200,\n",
    "  'palette': ['#edf8fb','#b2e2e2','#66c2a4','#2ca25f','#006d2c']}\n"
   ]
  },
  {
   "cell_type": "code",
   "execution_count": 75,
   "id": "9659ad45",
   "metadata": {},
   "outputs": [
    {
     "data": {
      "text/html": [
       "\n",
       "            <style>\n",
       "                .geemap-dark {\n",
       "                    --jp-widgets-color: white;\n",
       "                    --jp-widgets-label-color: white;\n",
       "                    --jp-ui-font-color1: white;\n",
       "                    --jp-layout-color2: #454545;\n",
       "                    background-color: #383838;\n",
       "                }\n",
       "\n",
       "                .geemap-dark .jupyter-button {\n",
       "                    --jp-layout-color3: #383838;\n",
       "                }\n",
       "\n",
       "                .geemap-colab {\n",
       "                    background-color: var(--colab-primary-surface-color, white);\n",
       "                }\n",
       "\n",
       "                .geemap-colab .jupyter-button {\n",
       "                    --jp-layout-color3: var(--colab-primary-surface-color, white);\n",
       "                }\n",
       "            </style>\n",
       "            "
      ],
      "text/plain": [
       "<IPython.core.display.HTML object>"
      ]
     },
     "metadata": {},
     "output_type": "display_data"
    },
    {
     "data": {
      "application/vnd.jupyter.widget-view+json": {
       "model_id": "5ec03715269c47839898e487a1b0bbf6",
       "version_major": 2,
       "version_minor": 0
      },
      "text/plain": [
       "Map(center=[np.float64(51.109305072533786), np.float64(10.436138145236526)], controls=(WidgetControl(options=[…"
      ]
     },
     "execution_count": 75,
     "metadata": {},
     "output_type": "execute_result"
    }
   ],
   "source": [
    "m = geemap.Map()\n",
    "m.set_center(center_aoi[0], center_aoi[1], 13)\n",
    "\n",
    "\n",
    "\n",
    "m.addLayer(s2_data, rgb_vis, \"RGB Sentinel-2\")\n",
    "m.addLayer(s1_data.select('VV'), s1_vis, \"VV bands\")\n",
    "m.addLayer(gedi_mosaic, gedi_vis, \"GEDI AGBD\")\n",
    "m.addLayer(worldcover.select('Map'), worldcover_vis, \"ESA WorldCover 2020\")\n",
    "m.addLayer(dem_bands.select('DEM'), dem_vis, \"DEM\")\n",
    "\n",
    "m\n",
    "\n"
   ]
  },
  {
   "cell_type": "markdown",
   "id": "a80ab749",
   "metadata": {},
   "source": [
    "# Resample to common 100m Resolution"
   ]
  },
  {
   "cell_type": "markdown",
   "id": "3b2ee5a7",
   "metadata": {},
   "source": [
    "The resolution of our data is quite high with GEDI having roughly 25m resolution, for the analysis, we get better results by resampling to a larger grid of 100m pixel size.\n",
    "\n",
    "I am using the EPSG:3857 projection for this project as my area of interest is in Germany"
   ]
  },
  {
   "cell_type": "code",
   "execution_count": 76,
   "id": "7392fc28",
   "metadata": {},
   "outputs": [
    {
     "data": {
      "text/html": [
       "\n",
       "            <style>\n",
       "                .geemap-dark {\n",
       "                    --jp-widgets-color: white;\n",
       "                    --jp-widgets-label-color: white;\n",
       "                    --jp-ui-font-color1: white;\n",
       "                    --jp-layout-color2: #454545;\n",
       "                    background-color: #383838;\n",
       "                }\n",
       "\n",
       "                .geemap-dark .jupyter-button {\n",
       "                    --jp-layout-color3: #383838;\n",
       "                }\n",
       "\n",
       "                .geemap-colab {\n",
       "                    background-color: var(--colab-primary-surface-color, white);\n",
       "                }\n",
       "\n",
       "                .geemap-colab .jupyter-button {\n",
       "                    --jp-layout-color3: var(--colab-primary-surface-color, white);\n",
       "                }\n",
       "            </style>\n",
       "            "
      ],
      "text/plain": [
       "<IPython.core.display.HTML object>"
      ]
     },
     "metadata": {},
     "output_type": "display_data"
    }
   ],
   "source": [
    "# Example variables (you should replace these with your actual ee.Image inputs)\n",
    "\n",
    "# Grid settings\n",
    "grid_scale = 100 # You can change this to a higher (or lower) resolution, but keep it above 25\n",
    "grid_projection = ee.Projection(projection_at_aoi).atScale(grid_scale)\n",
    "\n",
    "# Combine all bands into one stacked image\n",
    "stacked = s2_data.addBands(gedi_mosaic).addBands(dem_bands).addBands(worldcover).addBands(s1_data)\n",
    "\n",
    "# Actually, we are reprojecting everything to the GEDI projection\n",
    "# (The GEDI data is a bit fickle about being resampled)\n",
    "stacked = stacked.setDefaultProjection(gedi_proj)\n",
    "\n",
    "# Apply bilinear resampling\n",
    "stacked = stacked.resample('bilinear')\n",
    "stacked_resampled = (\n",
    "    stacked\n",
    "    .reduceResolution(reducer=ee.Reducer.mean(), maxPixels=1024)\n",
    "    .reproject(crs=grid_projection))\n",
    "\n",
    "# Clean up mask (remove transparency)\n",
    "stacked_resampled = stacked_resampled.updateMask(stacked_resampled.mask().gt(0))\n",
    "\n"
   ]
  },
  {
   "cell_type": "markdown",
   "id": "31c62d69",
   "metadata": {},
   "source": [
    "Quick check that pixels are aligning after the resampling\n",
    "\n",
    "Zoom in on the GEDI pixels and turn off the layer to confirm that they overlap with Sentinel 2"
   ]
  },
  {
   "cell_type": "code",
   "execution_count": 77,
   "id": "4751be56",
   "metadata": {},
   "outputs": [
    {
     "data": {
      "text/html": [
       "\n",
       "            <style>\n",
       "                .geemap-dark {\n",
       "                    --jp-widgets-color: white;\n",
       "                    --jp-widgets-label-color: white;\n",
       "                    --jp-ui-font-color1: white;\n",
       "                    --jp-layout-color2: #454545;\n",
       "                    background-color: #383838;\n",
       "                }\n",
       "\n",
       "                .geemap-dark .jupyter-button {\n",
       "                    --jp-layout-color3: #383838;\n",
       "                }\n",
       "\n",
       "                .geemap-colab {\n",
       "                    background-color: var(--colab-primary-surface-color, white);\n",
       "                }\n",
       "\n",
       "                .geemap-colab .jupyter-button {\n",
       "                    --jp-layout-color3: var(--colab-primary-surface-color, white);\n",
       "                }\n",
       "            </style>\n",
       "            "
      ],
      "text/plain": [
       "<IPython.core.display.HTML object>"
      ]
     },
     "metadata": {},
     "output_type": "display_data"
    },
    {
     "data": {
      "application/vnd.jupyter.widget-view+json": {
       "model_id": "d29b27dce3d542ee9745da3420e6c494",
       "version_major": 2,
       "version_minor": 0
      },
      "text/plain": [
       "Map(center=[np.float64(51.109305072533786), np.float64(10.436138145236526)], controls=(WidgetControl(options=[…"
      ]
     },
     "execution_count": 77,
     "metadata": {},
     "output_type": "execute_result"
    }
   ],
   "source": [
    "m = geemap.Map()\n",
    "m.set_center(center_aoi[0], center_aoi[1], 13)\n",
    "\n",
    "\n",
    "\n",
    "m.addLayer(stacked_resampled, rgb_vis, \"RGB Sentinel-2\")\n",
    "#m.addLayer(stacked_resampled.select('VV'), s1_vis, \"VV bands\")\n",
    "m.addLayer(stacked_resampled.select('agbd'), gedi_vis, \"GEDI AGB resampled\")\n",
    "#m.addLayer(stacked_resampled.select('Map'), worldcover_vis, \"ESA WorldCover 2020\")\n",
    "m.addLayer(gedi_agbd.mosaic().clip(aoi), gedi_vis, \"GEDI AGB native\")\n",
    "\n",
    "#m.addLayer(stacked_resampled.select('slope'), dem_vis, \"DEM\")\n",
    "\n",
    "m\n",
    "\n"
   ]
  },
  {
   "cell_type": "markdown",
   "id": "61811a66",
   "metadata": {},
   "source": [
    "# Download"
   ]
  },
  {
   "cell_type": "code",
   "execution_count": 78,
   "id": "e0cc1d75",
   "metadata": {},
   "outputs": [
    {
     "data": {
      "text/html": [
       "\n",
       "            <style>\n",
       "                .geemap-dark {\n",
       "                    --jp-widgets-color: white;\n",
       "                    --jp-widgets-label-color: white;\n",
       "                    --jp-ui-font-color1: white;\n",
       "                    --jp-layout-color2: #454545;\n",
       "                    background-color: #383838;\n",
       "                }\n",
       "\n",
       "                .geemap-dark .jupyter-button {\n",
       "                    --jp-layout-color3: #383838;\n",
       "                }\n",
       "\n",
       "                .geemap-colab {\n",
       "                    background-color: var(--colab-primary-surface-color, white);\n",
       "                }\n",
       "\n",
       "                .geemap-colab .jupyter-button {\n",
       "                    --jp-layout-color3: var(--colab-primary-surface-color, white);\n",
       "                }\n",
       "            </style>\n",
       "            "
      ],
      "text/plain": [
       "<IPython.core.display.HTML object>"
      ]
     },
     "metadata": {},
     "output_type": "display_data"
    },
    {
     "name": "stdout",
     "output_type": "stream",
     "text": [
      "['B2', 'B3', 'B4', 'B5', 'B6', 'B7', 'B8', 'B8A', 'B9', 'B11', 'B12', 'SCL', 'agbd', 'DEM', 'slope', 'Map', 'VV', 'VH']\n"
     ]
    }
   ],
   "source": [
    "bands_stacked = stacked.bandNames().getInfo()\n",
    "print(bands_stacked)"
   ]
  },
  {
   "cell_type": "code",
   "execution_count": 79,
   "id": "a80d3df2",
   "metadata": {},
   "outputs": [
    {
     "data": {
      "text/html": [
       "\n",
       "            <style>\n",
       "                .geemap-dark {\n",
       "                    --jp-widgets-color: white;\n",
       "                    --jp-widgets-label-color: white;\n",
       "                    --jp-ui-font-color1: white;\n",
       "                    --jp-layout-color2: #454545;\n",
       "                    background-color: #383838;\n",
       "                }\n",
       "\n",
       "                .geemap-dark .jupyter-button {\n",
       "                    --jp-layout-color3: #383838;\n",
       "                }\n",
       "\n",
       "                .geemap-colab {\n",
       "                    background-color: var(--colab-primary-surface-color, white);\n",
       "                }\n",
       "\n",
       "                .geemap-colab .jupyter-button {\n",
       "                    --jp-layout-color3: var(--colab-primary-surface-color, white);\n",
       "                }\n",
       "            </style>\n",
       "            "
      ],
      "text/plain": [
       "<IPython.core.display.HTML object>"
      ]
     },
     "metadata": {},
     "output_type": "display_data"
    }
   ],
   "source": [
    "\n",
    "# Define folder path\n",
    "folder_path = \"./data\"\n",
    "\n",
    "# Create folder if it doesn't exist\n",
    "os.makedirs(folder_path, exist_ok=True)"
   ]
  },
  {
   "cell_type": "code",
   "execution_count": null,
   "id": "ea54ee21",
   "metadata": {},
   "outputs": [
    {
     "data": {
      "text/html": [
       "\n",
       "            <style>\n",
       "                .geemap-dark {\n",
       "                    --jp-widgets-color: white;\n",
       "                    --jp-widgets-label-color: white;\n",
       "                    --jp-ui-font-color1: white;\n",
       "                    --jp-layout-color2: #454545;\n",
       "                    background-color: #383838;\n",
       "                }\n",
       "\n",
       "                .geemap-dark .jupyter-button {\n",
       "                    --jp-layout-color3: #383838;\n",
       "                }\n",
       "\n",
       "                .geemap-colab {\n",
       "                    background-color: var(--colab-primary-surface-color, white);\n",
       "                }\n",
       "\n",
       "                .geemap-colab .jupyter-button {\n",
       "                    --jp-layout-color3: var(--colab-primary-surface-color, white);\n",
       "                }\n",
       "            </style>\n",
       "            "
      ],
      "text/plain": [
       "<IPython.core.display.HTML object>"
      ]
     },
     "metadata": {},
     "output_type": "display_data"
    },
    {
     "name": "stdout",
     "output_type": "stream",
     "text": [
      "./data/resampled100_B2.tif\n",
      "Generating URL ...\n",
      "Downloading data from https://earthengine.googleapis.com/v1/projects/363829725592/thumbnails/ce89c52ca8b8695697c220d98336e985-f6568f40d2ed21977efc203540de2820:getPixels\n",
      "Please wait ...\n",
      "Data downloaded to c:\\Users\\juliu\\Desktop\\Coding\\AGB\\data\\resampled100_B2.tif\n",
      "./data/resampled100_B3.tif\n",
      "Generating URL ...\n",
      "Downloading data from https://earthengine.googleapis.com/v1/projects/363829725592/thumbnails/90ffc5535d5dc50d6eb8176a5c590de6-7e911c6cf5f04f1f63c037ac9acc1083:getPixels\n",
      "Please wait ...\n"
     ]
    }
   ],
   "source": [
    "# Unfortunately, Google Earth Explorer hates it when you want to download data to your local disk\n",
    "# You maybe need to run this cell several times because of errors\n",
    "# The download of 1 band can take anything between 10s to 10min (not depending on file size but Google server mood)\n",
    "bands = bands_stacked\n",
    "\n",
    "for i in bands:\n",
    "    download_name = \"{}/resampled100_{}.tif\".format(folder_path,i)\n",
    "    print(download_name)\n",
    "    geemap.ee_export_image(stacked_resampled.select(i), filename=download_name, scale=grid_scale, file_per_band=False)"
   ]
  },
  {
   "cell_type": "markdown",
   "id": "38da72ab",
   "metadata": {},
   "source": [
    "# End Part 1"
   ]
  },
  {
   "cell_type": "markdown",
   "id": "437f754a",
   "metadata": {},
   "source": [
    "After the download is complete, we are done with google earth explorer and the rest of the work can be done locally in Python and should run extremely fast.\n",
    "\n",
    "If the download step would not take forever, this would have been 1 notebook."
   ]
  }
 ],
 "metadata": {
  "kernelspec": {
   "display_name": ".agb",
   "language": "python",
   "name": "python3"
  },
  "language_info": {
   "codemirror_mode": {
    "name": "ipython",
    "version": 3
   },
   "file_extension": ".py",
   "mimetype": "text/x-python",
   "name": "python",
   "nbconvert_exporter": "python",
   "pygments_lexer": "ipython3",
   "version": "3.12.7"
  }
 },
 "nbformat": 4,
 "nbformat_minor": 5
}
